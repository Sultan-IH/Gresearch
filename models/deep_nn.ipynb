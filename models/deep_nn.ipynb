{
 "cells": [
  {
   "cell_type": "code",
   "execution_count": 1,
   "metadata": {},
   "outputs": [],
   "source": [
    "from sklearn.preprocessing import MinMaxScaler\n",
    "from sklearn.preprocessing import LabelEncoder\n",
    "import pandas as pd\n",
    "import numpy as np\n",
    "np.random.seed(7)"
   ]
  },
  {
   "cell_type": "code",
   "execution_count": 2,
   "metadata": {},
   "outputs": [],
   "source": [
    "df = pd.read_csv(\"./train.csv\")"
   ]
  },
  {
   "cell_type": "code",
   "execution_count": 3,
   "metadata": {},
   "outputs": [
    {
     "data": {
      "text/html": [
       "<div>\n",
       "<style scoped>\n",
       "    .dataframe tbody tr th:only-of-type {\n",
       "        vertical-align: middle;\n",
       "    }\n",
       "\n",
       "    .dataframe tbody tr th {\n",
       "        vertical-align: top;\n",
       "    }\n",
       "\n",
       "    .dataframe thead th {\n",
       "        text-align: right;\n",
       "    }\n",
       "</style>\n",
       "<table border=\"1\" class=\"dataframe\">\n",
       "  <thead>\n",
       "    <tr style=\"text-align: right;\">\n",
       "      <th></th>\n",
       "      <th>Index</th>\n",
       "      <th>Market</th>\n",
       "      <th>Day</th>\n",
       "      <th>Stock</th>\n",
       "      <th>x0</th>\n",
       "      <th>x1</th>\n",
       "      <th>x2</th>\n",
       "      <th>x3A</th>\n",
       "      <th>x3B</th>\n",
       "      <th>x3C</th>\n",
       "      <th>x3D</th>\n",
       "      <th>x3E</th>\n",
       "      <th>x4</th>\n",
       "      <th>x5</th>\n",
       "      <th>x6</th>\n",
       "      <th>y</th>\n",
       "      <th>Weight</th>\n",
       "    </tr>\n",
       "  </thead>\n",
       "  <tbody>\n",
       "    <tr>\n",
       "      <th>0</th>\n",
       "      <td>0</td>\n",
       "      <td>1</td>\n",
       "      <td>1</td>\n",
       "      <td>363</td>\n",
       "      <td>0.002696</td>\n",
       "      <td>0.530040</td>\n",
       "      <td>0.400810</td>\n",
       "      <td>1.300048e-06</td>\n",
       "      <td>4.639533e-06</td>\n",
       "      <td>1.073594e-05</td>\n",
       "      <td>2.180516e-05</td>\n",
       "      <td>4.416943e-05</td>\n",
       "      <td>0.002212</td>\n",
       "      <td>6.214737e-07</td>\n",
       "      <td>200.000000</td>\n",
       "      <td>-0.000196</td>\n",
       "      <td>1.533780</td>\n",
       "    </tr>\n",
       "    <tr>\n",
       "      <th>1</th>\n",
       "      <td>1</td>\n",
       "      <td>1</td>\n",
       "      <td>1</td>\n",
       "      <td>1223</td>\n",
       "      <td>0.081093</td>\n",
       "      <td>1.366218</td>\n",
       "      <td>1.325157</td>\n",
       "      <td>1.656861e-05</td>\n",
       "      <td>3.024668e-05</td>\n",
       "      <td>5.261872e-05</td>\n",
       "      <td>4.193762e-05</td>\n",
       "      <td>4.193762e-05</td>\n",
       "      <td>0.010932</td>\n",
       "      <td>3.414868e-05</td>\n",
       "      <td>300.000000</td>\n",
       "      <td>-0.003798</td>\n",
       "      <td>0.843604</td>\n",
       "    </tr>\n",
       "    <tr>\n",
       "      <th>2</th>\n",
       "      <td>2</td>\n",
       "      <td>1</td>\n",
       "      <td>1</td>\n",
       "      <td>1372</td>\n",
       "      <td>0.009561</td>\n",
       "      <td>0.464871</td>\n",
       "      <td>0.328008</td>\n",
       "      <td>6.500872e-08</td>\n",
       "      <td>2.323204e-07</td>\n",
       "      <td>5.182686e-07</td>\n",
       "      <td>1.080834e-06</td>\n",
       "      <td>2.030442e-06</td>\n",
       "      <td>0.000306</td>\n",
       "      <td>4.079460e-08</td>\n",
       "      <td>159.692076</td>\n",
       "      <td>-0.000003</td>\n",
       "      <td>29.824024</td>\n",
       "    </tr>\n",
       "    <tr>\n",
       "      <th>3</th>\n",
       "      <td>3</td>\n",
       "      <td>1</td>\n",
       "      <td>1</td>\n",
       "      <td>1942</td>\n",
       "      <td>0.045300</td>\n",
       "      <td>0.608222</td>\n",
       "      <td>0.456662</td>\n",
       "      <td>1.928694e-08</td>\n",
       "      <td>6.495275e-08</td>\n",
       "      <td>1.338509e-07</td>\n",
       "      <td>2.644214e-07</td>\n",
       "      <td>6.980798e-07</td>\n",
       "      <td>0.000205</td>\n",
       "      <td>9.502066e-09</td>\n",
       "      <td>212.160378</td>\n",
       "      <td>-0.000008</td>\n",
       "      <td>100.388668</td>\n",
       "    </tr>\n",
       "    <tr>\n",
       "      <th>4</th>\n",
       "      <td>4</td>\n",
       "      <td>1</td>\n",
       "      <td>1</td>\n",
       "      <td>2712</td>\n",
       "      <td>0.001605</td>\n",
       "      <td>0.476718</td>\n",
       "      <td>0.205069</td>\n",
       "      <td>6.759866e-07</td>\n",
       "      <td>2.638783e-06</td>\n",
       "      <td>6.424519e-06</td>\n",
       "      <td>1.189923e-05</td>\n",
       "      <td>2.064450e-05</td>\n",
       "      <td>0.001525</td>\n",
       "      <td>3.428403e-07</td>\n",
       "      <td>153.724351</td>\n",
       "      <td>0.000065</td>\n",
       "      <td>5.950714</td>\n",
       "    </tr>\n",
       "  </tbody>\n",
       "</table>\n",
       "</div>"
      ],
      "text/plain": [
       "   Index  Market  Day  Stock        x0        x1        x2           x3A  \\\n",
       "0      0       1    1    363  0.002696  0.530040  0.400810  1.300048e-06   \n",
       "1      1       1    1   1223  0.081093  1.366218  1.325157  1.656861e-05   \n",
       "2      2       1    1   1372  0.009561  0.464871  0.328008  6.500872e-08   \n",
       "3      3       1    1   1942  0.045300  0.608222  0.456662  1.928694e-08   \n",
       "4      4       1    1   2712  0.001605  0.476718  0.205069  6.759866e-07   \n",
       "\n",
       "            x3B           x3C           x3D           x3E        x4  \\\n",
       "0  4.639533e-06  1.073594e-05  2.180516e-05  4.416943e-05  0.002212   \n",
       "1  3.024668e-05  5.261872e-05  4.193762e-05  4.193762e-05  0.010932   \n",
       "2  2.323204e-07  5.182686e-07  1.080834e-06  2.030442e-06  0.000306   \n",
       "3  6.495275e-08  1.338509e-07  2.644214e-07  6.980798e-07  0.000205   \n",
       "4  2.638783e-06  6.424519e-06  1.189923e-05  2.064450e-05  0.001525   \n",
       "\n",
       "             x5          x6         y      Weight  \n",
       "0  6.214737e-07  200.000000 -0.000196    1.533780  \n",
       "1  3.414868e-05  300.000000 -0.003798    0.843604  \n",
       "2  4.079460e-08  159.692076 -0.000003   29.824024  \n",
       "3  9.502066e-09  212.160378 -0.000008  100.388668  \n",
       "4  3.428403e-07  153.724351  0.000065    5.950714  "
      ]
     },
     "execution_count": 3,
     "metadata": {},
     "output_type": "execute_result"
    }
   ],
   "source": [
    "markets = {\n",
    "    1: df[df['Market'] == 1],\n",
    "    2: df[df['Market'] == 2],\n",
    "    3: df[df['Market'] == 3],\n",
    "    4: df[df['Market'] == 4],\n",
    "\n",
    "}\n",
    "df.head()\n"
   ]
  },
  {
   "cell_type": "code",
   "execution_count": 4,
   "metadata": {},
   "outputs": [
    {
     "name": "stdout",
     "output_type": "stream",
     "text": [
      "1167972 (89844, 13)\n",
      "89844 (89844,)\n"
     ]
    }
   ],
   "source": [
    "vals = markets[1].dropna().values\n",
    "train_X = vals[:,2:15]\n",
    "train_Y = vals[:,16]\n",
    "\n",
    "print(np.count_nonzero(~np.isnan(train_X)), train_X.shape)\n",
    "print(np.count_nonzero(~np.isnan(train_Y)), train_Y.shape)\n"
   ]
  },
  {
   "cell_type": "code",
   "execution_count": 18,
   "metadata": {},
   "outputs": [],
   "source": [
    "from keras.layers import Dense\n",
    "from keras.models import Sequential\n",
    "from keras.utils import plot_model\n",
    "\n",
    "\n",
    "model = Sequential()\n",
    "\n",
    "model.add(Dense(units=128, activation='relu', input_shape=(13,)))\n",
    "model.add(Dense(units=64, activation='relu'))\n",
    "model.add(Dense(units=1, activation='relu'))\n",
    "\n",
    "model.compile(loss='mse',\n",
    "              optimizer='adam',\n",
    "              metrics=['accuracy'])\n",
    "\n"
   ]
  },
  {
   "cell_type": "code",
   "execution_count": 19,
   "metadata": {},
   "outputs": [
    {
     "name": "stdout",
     "output_type": "stream",
     "text": [
      "Epoch 1/5\n",
      "89844/89844 [==============================] - 7s 79us/step - loss: 432.4859 - acc: 0.0000e+00\n",
      "Epoch 2/5\n",
      "89844/89844 [==============================] - 7s 75us/step - loss: 432.4354 - acc: 0.0000e+00\n",
      "Epoch 3/5\n",
      "89844/89844 [==============================] - 6s 72us/step - loss: 432.4354 - acc: 0.0000e+00\n",
      "Epoch 4/5\n",
      "89844/89844 [==============================] - 7s 76us/step - loss: 432.4354 - acc: 0.0000e+00\n",
      "Epoch 5/5\n",
      "89844/89844 [==============================] - 7s 73us/step - loss: 432.4354 - acc: 0.0000e+00\n"
     ]
    }
   ],
   "source": [
    "history = model.fit(train_X, train_Y, epochs=2, batch_size=20)\n"
   ]
  },
  {
   "cell_type": "code",
   "execution_count": 20,
   "metadata": {
    "scrolled": true
   },
   "outputs": [
    {
     "name": "stdout",
     "output_type": "stream",
     "text": [
      "dict_keys(['loss', 'acc'])\n"
     ]
    },
    {
     "data": {
      "text/plain": [
       "Text(0.5,1,'model accuracy')"
      ]
     },
     "execution_count": 20,
     "metadata": {},
     "output_type": "execute_result"
    },
    {
     "data": {
      "image/png": "[encoded data removed]",
      "text/plain": [
       "<matplotlib.figure.Figure at 0x12acc6fd0>"
      ]
     },
     "metadata": {},
     "output_type": "display_data"
    }
   ],
   "source": [
    "import matplotlib.pyplot as plt\n",
    "print(history.history.keys())\n",
    "plt.plot(history.history['loss'])\n",
    "plt.title('model accuracy')"
   ]
  },
  {
   "cell_type": "code",
   "execution_count": 13,
   "metadata": {},
   "outputs": [],
   "source": []
  },
  {
   "cell_type": "code",
   "execution_count": null,
   "metadata": {},
   "outputs": [],
   "source": []
  }
 ],
 "metadata": {
  "kernelspec": {
   "display_name": "Python 3",
   "language": "python",
   "name": "python3"
  },
  "language_info": {
   "codemirror_mode": {
    "name": "ipython",
    "version": 3
   },
   "file_extension": ".py",
   "mimetype": "text/x-python",
   "name": "python",
   "nbconvert_exporter": "python",
   "pygments_lexer": "ipython3",
   "version": "3.6.4"
  }
 },
 "nbformat": 4,
 "nbformat_minor": 2
}
